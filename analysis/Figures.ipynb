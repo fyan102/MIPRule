{
 "cells": [
  {
   "cell_type": "code",
   "execution_count": 1,
   "id": "8b99c2f8",
   "metadata": {},
   "outputs": [],
   "source": [
    "import matplotlib.pyplot as plt\n",
    "import pandas as pd\n",
    "import numpy as np"
   ]
  },
  {
   "cell_type": "code",
   "execution_count": 2,
   "id": "e4ee3987",
   "metadata": {},
   "outputs": [],
   "source": [
    "# Set improved matplotlib parameters\n",
    "plt.rcParams.update({\n",
    "    'font.size': 12,\n",
    "    'font.weight': 'normal',\n",
    "#     'axes.labelweight': 'bold',\n",
    "#     'axes.titleweight': 'bold',\n",
    "    'figure.facecolor': 'white',\n",
    "    'axes.facecolor': 'white',\n",
    "    'grid.alpha': 0.3,\n",
    "    'grid.linewidth': 0.8,\n",
    "    'axes.edgecolor': 'black',\n",
    "    'axes.linewidth': 1.2,\n",
    "    'xtick.labelsize': 14,\n",
    "    'ytick.labelsize': 14,\n",
    "    'legend.frameon': True,\n",
    "    'legend.fancybox': True,\n",
    "    'legend.shadow': True,\n",
    "    'legend.fontsize': 12\n",
    "})\n",
    "\n",
    "\n",
    "\n",
    "# Define improved color scheme\n",
    "colors = {\n",
    "    'positive': '#2E86AB',  # Professional blue\n",
    "    'negative': '#A23B72',  # Deep magenta/burgundy\n",
    "    'prediction': '#F18F01',  # Warm orange\n",
    "    'rule_pos': '#4CAF50',  # Green for positive rules\n",
    "    'rule_neg': '#E91E63',  # Pink for negative rules\n",
    "    'baseline': '#757575'   # Gray for baseline\n",
    "}"
   ]
  },
  {
   "cell_type": "code",
   "execution_count": 3,
   "id": "de75cac2",
   "metadata": {},
   "outputs": [],
   "source": [
    "def generate_alternating_regression_dataset(k, Delta):\n",
    "    x_values = np.arange(1, 2 * k)  # x_i = i\n",
    "    a_values = 1 - (x_values - 1) * Delta  # a_i = 1 - (i-1) * Delta\n",
    "    y_values = (-1) ** (x_values - 1) * a_values  # y_i = (-1)^(i-1) * a_i\n",
    "    return x_values, y_values\n",
    "\n"
   ]
  },
  {
   "cell_type": "code",
   "execution_count": 9,
   "id": "e2472b69",
   "metadata": {},
   "outputs": [
    {
     "data": {
      "image/png": "[encoded data removed]",
      "text/plain": [
       "<Figure size 576x108 with 1 Axes>"
      ]
     },
     "metadata": {
      "needs_background": "light"
     },
     "output_type": "display_data"
    }
   ],
   "source": [
    "# Parameters\n",
    "k = 5\n",
    "Delta = 0.03\n",
    "\n",
    "# Generate the dataset\n",
    "x_values, y_values = generate_alternating_regression_dataset(k, Delta)\n",
    "ind_pos = np.where(y_values>0)[0]\n",
    "ind_neg = np.where(y_values<0)[0]\n",
    "# Plotting the dataset\n",
    "plt.figure(figsize=(8, 1.5))\n",
    "# plt.scatter(x_values, y_values, marker='o', linestyle='-', color='b', alpha=0.6)\n",
    "# plt.scatter(x_values[ind_neg], y_values[ind_neg], marker='o', color='g', s=80, label='y<0')\n",
    "# plt.scatter(x_values[ind_pos], y_values[ind_pos], marker='o', color='b', s=80, label='y>0')\n",
    "plt.scatter(x_values[ind_neg], y_values[ind_neg], \n",
    "           marker='o', color=colors['negative'], s=80, \n",
    "           label='y < 0', alpha=0.9, edgecolors='white', linewidth=1.5, zorder=5)\n",
    "plt.scatter(x_values[ind_pos], y_values[ind_pos], \n",
    "           marker='o', color=colors['positive'], s=80, \n",
    "           label='y > 0', alpha=0.9, edgecolors='white', linewidth=1.5, zorder=5)\n",
    "# plt.title(f'Alternating Regression Dataset (k={k}, Δ={Delta})')#, fontsize=12)\n",
    "plt.xlabel('x', fontsize=14)#, fontsize=12)\n",
    "plt.ylabel('y', fontsize=14)#, fontsize=12)\n",
    "plt.grid(True)\n",
    "plt.xlim([0,10])\n",
    "plt.ylim([-1.2,1.2])\n",
    "\n",
    "plt.legend()\n",
    "plt.savefig('abd.pdf', bbox_inches='tight',pad_inches=0.01)"
   ]
  },
  {
   "cell_type": "code",
   "execution_count": 10,
   "id": "9ad3b696",
   "metadata": {},
   "outputs": [],
   "source": [
    "# k = 5\n",
    "# Delta = 0.05\n",
    "# # \n",
    "# # Generate the dataset\n",
    "# x_values, y_values = generate_alternating_regression_dataset(k, Delta)\n",
    "\n",
    "# # Plotting the dataset\n",
    "# plt.figure(figsize=(8, 1.5))\n",
    "# plt.scatter(x_values, y_values, marker='o', linestyle='-', color='b')\n",
    "# plt.title(f'Alternating Regression Dataset (k={k}, Δ={Delta})')\n",
    "# plt.xlabel('x')\n",
    "# plt.ylabel('y')\n",
    "# plt.grid(True)\n",
    "# # plt.legend()\n",
    "# plt.show()"
   ]
  },
  {
   "cell_type": "code",
   "execution_count": 11,
   "id": "0ae3d950",
   "metadata": {},
   "outputs": [
    {
     "data": {
      "image/png": "[encoded data removed]",
      "text/plain": [
       "<Figure size 576x108 with 1 Axes>"
      ]
     },
     "metadata": {
      "needs_background": "light"
     },
     "output_type": "display_data"
    }
   ],
   "source": [
    "k = 5\n",
    "Delta = 0.02\n",
    "\n",
    "# Generate the dataset\n",
    "x_values, y_values = generate_alternating_regression_dataset(k, Delta)\n",
    "ind_pos = np.where(y_values>0)[0]\n",
    "ind_neg = np.where(y_values<0)[0]\n",
    "# Plotting the dataset\n",
    "plt.figure(figsize=(8, 1.5))\n",
    "# plt.scatter(x_values, y_values, marker='o', linestyle='-', color='b', alpha=0.6)\n",
    "# plt.scatter(x_values[ind_neg], y_values[ind_neg], marker='o', color='g', s=80, label='y<0')\n",
    "# plt.scatter(x_values[ind_pos], y_values[ind_pos], marker='o', color='b', s=80, label='y>0')\n",
    "plt.scatter(x_values[ind_neg], y_values[ind_neg], \n",
    "           marker='o', color=colors['negative'], s=80, \n",
    "           label='y < 0', alpha=0.9, edgecolors='white', linewidth=1.5, zorder=5)\n",
    "plt.scatter(x_values[ind_pos], y_values[ind_pos], \n",
    "           marker='o', color=colors['positive'], s=80, \n",
    "           label='y > 0', alpha=0.9, edgecolors='white', linewidth=1.5, zorder=5)\n",
    "# plt.title(f'Alternating Regression Dataset (k={k}, Δ={Delta})')\n",
    "plt.xlabel('x', fontsize=14)\n",
    "plt.ylabel('y', fontsize=14)\n",
    "plt.grid(True)\n",
    "plt.step([0.5,9.5],[0.9,0.9],'b:', alpha=0.6, linewidth=4)\n",
    "for i in range(4):\n",
    "    plt.step([0,i*2+1.5, i*2+2.5, 10], [0,0,-2,0], 'g:', alpha=0.6, linewidth=4)\n",
    "# plt.step(np.arange(10)+0.5,[0,0,-2,0,-2,0,-2,0,-2,0],'g--')\n",
    "plt.step(np.arange(10)+0.5,[1,0.9,-0.96,0.96,-0.92,0.92,-0.88,0.88,-0.84,0.84],'r-', alpha=0.7, linewidth=2)\n",
    "plt.plot([0,9.5], [0,0],'g:', linewidth=4)\n",
    "plt.xlim([0,10])\n",
    "# plt.legend()\n",
    "plt.savefig('abd_ref.pdf', bbox_inches='tight',pad_inches=0.01)"
   ]
  },
  {
   "cell_type": "code",
   "execution_count": 12,
   "id": "417fe571",
   "metadata": {},
   "outputs": [
    {
     "data": {
      "image/png": "[encoded data removed]",
      "text/plain": [
       "<Figure size 576x108 with 1 Axes>"
      ]
     },
     "metadata": {
      "needs_background": "light"
     },
     "output_type": "display_data"
    }
   ],
   "source": [
    "k = 5\n",
    "Delta = 0.02\n",
    "\n",
    "# Generate the dataset\n",
    "x_values, y_values = generate_alternating_regression_dataset(k, Delta)\n",
    "ind_pos = np.where(y_values>0)[0]\n",
    "ind_neg = np.where(y_values<0)[0]\n",
    "# Plotting the dataset\n",
    "plt.figure(figsize=(8, 1.5))\n",
    "# plt.scatter(x_values, y_values, marker='o', linestyle='-', color='b', alpha=0.6)\n",
    "# plt.scatter(x_values[ind_neg], y_values[ind_neg], marker='o', color='g', s=80, label='y<0')\n",
    "# plt.scatter(x_values[ind_pos], y_values[ind_pos], marker='o', color='b', s=80, label='y>0')\n",
    "plt.scatter(x_values[ind_neg], y_values[ind_neg], \n",
    "           marker='o', color=colors['negative'], s=80, \n",
    "           label='y < 0', alpha=0.9, edgecolors='white', linewidth=1.5, zorder=5)\n",
    "plt.scatter(x_values[ind_pos], y_values[ind_pos], \n",
    "           marker='o', color=colors['positive'], s=80, \n",
    "           label='y > 0', alpha=0.9, edgecolors='white', linewidth=1.5, zorder=5)\n",
    "# plt.title(f'Alternating Regression Dataset (k={k}, Δ={Delta})')\n",
    "plt.xlabel('x', fontsize=14)\n",
    "plt.ylabel('y', fontsize=14)\n",
    "plt.grid(True)\n",
    "# plt.step([0.5,9.5],[1,1],'b--')\n",
    "for i in range(2):\n",
    "    plt.step(np.arange(3)+i*2+1.5, [0,-1+i*0.06,0], 'g:', alpha=0.5, linewidth=4)\n",
    "for i in range(3):\n",
    "    plt.step([0,i*2+0.5,i*2+1.5, 10], [0,0,1-i*0.04,0], 'b:', alpha=0.4, linewidth=4)\n",
    "# plt.step(np.arange(10)+0.5,[0,0,-2,0,-2,0,-2,0,-2,0],'g--')\n",
    "plt.step((np.arange(7)+0.5).tolist()+[10],[1,1,-0.96,0.96,-0.92,0.92,0,0],'r-', alpha=0.6, linewidth=2)\n",
    "# plt.plot([0,9.5], [0,0],'g--')\n",
    "# plt.plot([0,9.5], [0,0],'g--')\n",
    "plt.xlim([0,10])\n",
    "# plt.legend()\n",
    "plt.savefig('abd_boosting.pdf', bbox_inches='tight',pad_inches=0.01)"
   ]
  },
  {
   "cell_type": "code",
   "execution_count": 14,
   "id": "308d0e46",
   "metadata": {},
   "outputs": [
    {
     "data": {
      "image/png": "[encoded data removed]",
      "text/plain": [
       "<Figure size 432x288 with 1 Axes>"
      ]
     },
     "metadata": {
      "needs_background": "light"
     },
     "output_type": "display_data"
    }
   ],
   "source": [
    "import matplotlib.pyplot as plt\n",
    "import matplotlib.patches as patches\n",
    "import numpy as np\n",
    "np.random.seed(1005)\n",
    "# Create a figure and axis\n",
    "fig, ax = plt.subplots()\n",
    "\n",
    "# Sample data points (you can replace this with your real data)\n",
    "# +1 class points (blue dots)\n",
    "x1 = np.random.rand(20) * 3\n",
    "y1 = np.random.rand(20) * 3\n",
    "# -1 class points (red crosses)\n",
    "x2 = np.random.rand(20) * 3 + 1.5\n",
    "y2 = np.random.rand(20) * 3 + 1.5\n",
    "\n",
    "# Plot the points\n",
    "ax.scatter(x1, y1, color='blue', label=r'$y=+1$', zorder=2)\n",
    "ax.scatter(x2, y2, color='red', marker='x', label=r'$y=-1$', zorder=2)\n",
    "\n",
    "# Add the shaded regions (Rule regions W1 and W2)\n",
    "# W1 region (blue shaded)\n",
    "rect1 = patches.Rectangle((0, 0), 2.5, 2.6, linewidth=1, edgecolor='brown', facecolor='lightblue', alpha=0.5)\n",
    "ax.add_patch(rect1)\n",
    "ax.text(.7, .7, r'$\\beta_1$', fontsize=12, color='black')\n",
    "ax.plot([0,0],[-0.5,0],linestyle='dotted', color='brown')\n",
    "ax.plot([2.5,2.5],[-0.5,0],linestyle='dotted', color='brown')\n",
    "ax.plot([-.5,0],[0,0],linestyle='dotted', color='brown')\n",
    "ax.plot([-.5,0],[2.6, 2.6],linestyle='dotted', color='brown')\n",
    "# W2 region (red shaded)\n",
    "rect2 = patches.Rectangle((1.5, 1.5), 3, 3, linewidth=1, edgecolor='brown', facecolor='lightcoral', alpha=0.5)\n",
    "ax.add_patch(rect2)\n",
    "ax.text(2, 4, r'$\\beta_2$', fontsize=12, color='black')\n",
    "ax.plot([1.5,1.5],[-0.5,1.5],linestyle='dotted', color='brown')\n",
    "ax.plot([4.5,4.5],[-0.5,1.5],linestyle='dotted', color='brown')\n",
    "ax.plot([-0.5,1.5],[1.5,1.5],linestyle='dotted', color='brown')\n",
    "ax.plot([-.5,1.5],[4.5, 4.5],linestyle='dotted', color='brown')\n",
    "# Add annotations with arrows instead of straight lines\n",
    "ax.annotate(r'$\\beta_{1}$ if $l_{11}\\leq x_1\\leq u_{11}$'+'\\n    & '+r'$l_{12}\\leq x_1\\leq u_{12}$', \n",
    "            xy=(1.8, 1), xytext=(2.7, 0.4),\n",
    "             arrowprops=dict(arrowstyle=\"-|>,head_length=1,head_width=0.25\",connectionstyle=\"arc3\", facecolor='black'), \n",
    "            fontsize=12)\n",
    "ax.annotate(r'$\\beta_{2}$ if $l_{21}\\leq x_1\\leq u_{21}$'+'\\n    & '+r'$l_{22}\\leq x_1\\leq u_{22}$', \n",
    "            xy=(2.5, 3), xytext=(-0.45, 3),\n",
    "             arrowprops=dict(arrowstyle=\"-|>,head_length=1,head_width=0.25\",connectionstyle=\"arc3\", facecolor='black'), \n",
    "            fontsize=12)\n",
    "\n",
    "# Axis labels like l_{1,1}, u_{2,2} replacing ticks\n",
    "ax.set_xticks([0, 1.5, 2.5, 4.5])\n",
    "ax.set_xticklabels([r'$l_{11}$', r'$l_{21}$', r'$u_{11}$', r'$u_{21}$'], fontsize=12)\n",
    "\n",
    "ax.set_yticks([0, 1.5, 2.6, 4.5])\n",
    "ax.set_yticklabels([r'$l_{12}$', r'$l_{22}$', r'$u_{12}$', r'$u_{22}$'], fontsize=12)\n",
    "\n",
    "# Customize the plot limits\n",
    "plt.xlim(-0.5, 5.2)\n",
    "plt.ylim(-0.5, 5.2)\n",
    "plt.xlabel(r'$x_1$', fontsize=12)\n",
    "plt.ylabel(r'$x_2$', fontsize=12)\n",
    "# Labels and title\n",
    "# plt.title('Annotated Rule-Based Regions with Weights')\n",
    "plt.legend()\n",
    "plt.savefig('mip_vars.pdf', bbox_inches='tight',pad_inches=0.01)\n"
   ]
  },
  {
   "cell_type": "code",
   "execution_count": 12,
   "id": "2330e2b7",
   "metadata": {},
   "outputs": [
    {
     "data": {
      "image/png": "[encoded data removed]",
      "text/plain": [
       "<Figure size 360x288 with 1 Axes>"
      ]
     },
     "metadata": {
      "needs_background": "light"
     },
     "output_type": "display_data"
    }
   ],
   "source": [
    "import matplotlib.pyplot as plt\n",
    "import numpy as np\n",
    "\n",
    "# Create a figure and axis\n",
    "fig, ax = plt.subplots(figsize=(5, 4))\n",
    "\n",
    "# Generate random data points for illustration\n",
    "np.random.seed(45)\n",
    "points = np.random.rand(100, 2)\n",
    "ax.plot([-1], [-1], 'bo', label=r'$q(x_i, y_i)=1$') \n",
    "ax.plot([-1], [-1], 'rx', label=r'$q(x_i, y_i)$=0')\n",
    "# Plot the data points (blue for covered and red crosses for not covered)\n",
    "for x, y in points:\n",
    "    if (0.2 <= x <= 0.8 and 0.25 <= y <= 0.7) :\n",
    "        ax.plot(x, y, 'bo')  # Blue dot for covered points\n",
    "    else:\n",
    "        ax.plot(x, y, 'rx')  # Red cross for uncovered points\n",
    "\n",
    "# Draw rectangles to illustrate the rules similar to the cross-like shape in the uploaded figure\n",
    "# Rectangle 1: Vertical bar (covering left and central part)\n",
    "rect1 = plt.Rectangle((0, 0.25), 1, 0.45, linewidth=2, edgecolor='brown', facecolor='gold', alpha=0.5, \n",
    "                      label=r'$s_{i,t,2}=1$')\n",
    "ax.add_patch(rect1)\n",
    "\n",
    "# Rectangle 2: Horizontal bar (covering bottom and central part)\n",
    "rect2 = plt.Rectangle((0.2, 0), 0.6, 1, linewidth=2, edgecolor='brown', facecolor='skyblue', alpha=0.5,\n",
    "                     label=r'$s_{i,t,1}=1$')\n",
    "ax.add_patch(rect2)\n",
    "rect3 = plt.Rectangle((0.2, 0.25), 0.6, 0.45, linewidth=2, edgecolor='brown', facecolor='lightgreen', alpha=0.5,\n",
    "                     label=r'$z_{i,t}=1$')\n",
    "ax.add_patch(rect3)\n",
    "\n",
    "# Set axis labels and ticks\n",
    "ax.set_xlabel(r'$x_1$', fontsize=14)\n",
    "ax.set_ylabel(r'$x_2$', fontsize=14)\n",
    "ax.set_xticks([0.2, 0.8,])\n",
    "ax.set_xticklabels([r'$l_{t,1}$',  r'$u_{t,1}$'], fontsize=12)\n",
    "ax.set_yticks([0.25, 0.7])\n",
    "ax.set_yticklabels([ r'$l_{t,2}$',  r'$u_{t,2}$'], fontsize=12)\n",
    "# ax.annotate(r'$s_{i,r,1}=1$', \n",
    "#             xy=(0.9, 0.5), xytext=(1.1, 0.4),\n",
    "#              arrowprops=dict(arrowstyle=\"-|>,head_length=1,head_width=0.25\",connectionstyle=\"arc3\", facecolor='black'), \n",
    "#             fontsize=12)\n",
    "# ax.annotate(r'$s_{i,r,2}=1$', \n",
    "#             xy=(2.5, 3), xytext=(-0.45, 3),\n",
    "#              arrowprops=dict(arrowstyle=\"-|>,head_length=1,head_width=0.25\",connectionstyle=\"arc3\", facecolor='black'), \n",
    "#             fontsize=12)\n",
    "# ax.annotate(r'$z_{i,r}=1$', \n",
    "#             xy=(2.5, 3), xytext=(-0.45, 3),\n",
    "#              arrowprops=dict(arrowstyle=\"-|>,head_length=1,head_width=0.25\",connectionstyle=\"arc3\", facecolor='black'), \n",
    "#             fontsize=12)\n",
    "# Set axis limits\n",
    "ax.set_xlim(0, 1)\n",
    "ax.set_ylim(0, 1)\n",
    "ax.legend(bbox_to_anchor=(1.05,0.48), fontsize=12)\n",
    "# Display the plot\n",
    "# plt.title('Illustration of Rules Covering Different Data Points (Cross-shaped Regions)')\n",
    "plt.savefig('mip_form1.pdf', bbox_inches='tight',pad_inches=0.01)\n"
   ]
  },
  {
   "cell_type": "code",
   "execution_count": null,
   "id": "3015daec",
   "metadata": {},
   "outputs": [],
   "source": []
  }
 ],
 "metadata": {
  "kernelspec": {
   "display_name": "Python 3 (ipykernel)",
   "language": "python",
   "name": "python3"
  },
  "language_info": {
   "codemirror_mode": {
    "name": "ipython",
    "version": 3
   },
   "file_extension": ".py",
   "mimetype": "text/x-python",
   "name": "python",
   "nbconvert_exporter": "python",
   "pygments_lexer": "ipython3",
   "version": "3.10.12"
  }
 },
 "nbformat": 4,
 "nbformat_minor": 5
}
